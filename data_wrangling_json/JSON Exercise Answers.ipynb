{
 "cells": [
  {
   "cell_type": "markdown",
   "metadata": {},
   "source": [
    "****\n",
    "## JSON exercise\n",
    "\n",
    "Using data in file 'data/world_bank_projects.json' and the techniques demonstrated above,\n",
    "1. Find the 10 countries with most projects\n",
    "2. Find the top 10 major project themes (using column 'mjtheme_namecode')\n",
    "3. In 2. above you will notice that some entries have only the code and the name is missing. Create a dataframe with the missing names filled in.\n",
    "\n",
    "\n"
   ]
  },
  {
   "cell_type": "code",
   "execution_count": 4,
   "metadata": {},
   "outputs": [],
   "source": [
    "import pandas as pd\n",
    "import json\n",
    "from pandas.io.json import json_normalize"
   ]
  },
  {
   "cell_type": "code",
   "execution_count": 5,
   "metadata": {},
   "outputs": [
    {
     "data": {
      "text/plain": [
       "[('China', 19),\n",
       " ('Indonesia', 19),\n",
       " ('Vietnam', 17),\n",
       " ('India', 16),\n",
       " ('Yemen, Republic of', 13),\n",
       " ('Morocco', 12),\n",
       " ('Nepal', 12),\n",
       " ('Bangladesh', 12),\n",
       " ('Mozambique', 11),\n",
       " ('Africa', 11)]"
      ]
     },
     "execution_count": 5,
     "metadata": {},
     "output_type": "execute_result"
    }
   ],
   "source": [
    "#Load in the data as projects, a normalized table of all the columns of the dataset\n",
    "data = json.load(open('data/world_bank_projects.json'))\n",
    "projects = json_normalize(data)\n",
    "\n",
    "# 1. Find the 10 countries with the most projects\n",
    "\n",
    "# Import the Counter object from collections, create the counter country_counter from the 'countryshortname' column of projects, and display a list of the ten most common countries with their counts\n",
    "from collections import Counter\n",
    "country_counter = Counter(projects['countryshortname'])\n",
    "country_counter.most_common(10)"
   ]
  },
  {
   "cell_type": "code",
   "execution_count": 6,
   "metadata": {},
   "outputs": [
    {
     "data": {
      "text/plain": [
       "[('Environment and natural resources management', 223),\n",
       " ('Rural development', 202),\n",
       " ('Human development', 197),\n",
       " ('Public sector governance', 184),\n",
       " ('Social protection and risk management', 158),\n",
       " ('Financial and private sector development', 130),\n",
       " ('', 122),\n",
       " ('Social dev/gender/inclusion', 119),\n",
       " ('Trade and integration', 72),\n",
       " ('Urban development', 47)]"
      ]
     },
     "execution_count": 6,
     "metadata": {},
     "output_type": "execute_result"
    }
   ],
   "source": [
    "# 2. Find the top 10 major project themes (using column 'mjtheme_namecode')\n",
    "\n",
    "# Create an empty list and append the name of every theme for each project to it\n",
    "mjthemes = projects['mjtheme_namecode']\n",
    "themes = []\n",
    "for entry in mjthemes:\n",
    "    for i in entry:\n",
    "        themes.append(i['name'])\n",
    "\n",
    "# Create a counter for the now populated list of all the themes from the data, and display a list of the ten most common themes and their counts\n",
    "themes_counter = Counter(themes)\n",
    "themes_counter.most_common(10)"
   ]
  },
  {
   "cell_type": "code",
   "execution_count": 9,
   "metadata": {},
   "outputs": [
    {
     "name": "stdout",
     "output_type": "stream",
     "text": [
      "True\n"
     ]
    }
   ],
   "source": [
    "# 3. Create a dataframe with the missing names filled in.\n",
    "\n",
    "# Make a dictionary with the theme code as the key and the theme name as the value\n",
    "theme_dict = {}\n",
    "for entry in projects['mjtheme_namecode']:\n",
    "    for val in entry:\n",
    "        if val['name'] != '':\n",
    "            theme_dict[val['code']] = val['name']\n",
    "            \n",
    "# A simple function using theme_dict to return a theme name given a code\n",
    "def filler_in(code):\n",
    "    return theme_dict[code]\n",
    "    \n",
    "\n",
    "# Loop through each project in the data, and loop through all of each project's themes; reassign entries with an empty theme name to the correct name corresponding to its theme code \n",
    "num_proj = len(projects['mjtheme_namecode'])\n",
    "for i in range(num_proj):\n",
    "    num_themes_per_proj = len(projects['mjtheme_namecode'][i])\n",
    "    for j in range(num_themes_per_proj):\n",
    "        if projects['mjtheme_namecode'][i][j]['name'] == '':\n",
    "            projects['mjtheme_namecode'][i][j]['name'] = filler_in(projects['mjtheme_namecode'][i][j]['code'])\n",
    "        \n",
    "# To check if empty string theme names have been filled in, we can make a new counter similar to the one in 2, and confirm the count for '' is 0\n",
    "mjthemes = projects['mjtheme_namecode']\n",
    "themes = []\n",
    "for entry in mjthemes:\n",
    "    for i in entry:\n",
    "        themes.append(i['name'])\n",
    "themes_counter_2 = Counter(themes)\n",
    "print(themes_counter_2[''] == 0)"
   ]
  }
 ],
 "metadata": {
  "kernelspec": {
   "display_name": "Python 3",
   "language": "python",
   "name": "python3"
  },
  "language_info": {
   "codemirror_mode": {
    "name": "ipython",
    "version": 3
   },
   "file_extension": ".py",
   "mimetype": "text/x-python",
   "name": "python",
   "nbconvert_exporter": "python",
   "pygments_lexer": "ipython3",
   "version": "3.6.0"
  }
 },
 "nbformat": 4,
 "nbformat_minor": 2
}
