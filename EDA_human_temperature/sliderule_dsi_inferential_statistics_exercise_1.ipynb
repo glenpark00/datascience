{
 "cells": [
  {
   "cell_type": "markdown",
   "metadata": {},
   "source": [
    "# What is the True Normal Human Body Temperature? \n",
    "\n",
    "#### Background\n",
    "\n",
    "The mean normal body temperature was held to be 37$^{\\circ}$C or 98.6$^{\\circ}$F for more than 120 years since it was first conceptualized and reported by Carl Wunderlich in a famous 1868 book. But, is this value statistically correct?"
   ]
  },
  {
   "cell_type": "code",
   "execution_count": 194,
   "metadata": {},
   "outputs": [
    {
     "data": {
      "text/html": [
       "<div>\n",
       "<style scoped>\n",
       "    .dataframe tbody tr th:only-of-type {\n",
       "        vertical-align: middle;\n",
       "    }\n",
       "\n",
       "    .dataframe tbody tr th {\n",
       "        vertical-align: top;\n",
       "    }\n",
       "\n",
       "    .dataframe thead th {\n",
       "        text-align: right;\n",
       "    }\n",
       "</style>\n",
       "<table border=\"1\" class=\"dataframe\">\n",
       "  <thead>\n",
       "    <tr style=\"text-align: right;\">\n",
       "      <th></th>\n",
       "      <th>temperature</th>\n",
       "      <th>gender</th>\n",
       "      <th>heart_rate</th>\n",
       "    </tr>\n",
       "  </thead>\n",
       "  <tbody>\n",
       "    <tr>\n",
       "      <th>0</th>\n",
       "      <td>99.3</td>\n",
       "      <td>F</td>\n",
       "      <td>68.0</td>\n",
       "    </tr>\n",
       "    <tr>\n",
       "      <th>1</th>\n",
       "      <td>98.4</td>\n",
       "      <td>F</td>\n",
       "      <td>81.0</td>\n",
       "    </tr>\n",
       "    <tr>\n",
       "      <th>2</th>\n",
       "      <td>97.8</td>\n",
       "      <td>M</td>\n",
       "      <td>73.0</td>\n",
       "    </tr>\n",
       "    <tr>\n",
       "      <th>3</th>\n",
       "      <td>99.2</td>\n",
       "      <td>F</td>\n",
       "      <td>66.0</td>\n",
       "    </tr>\n",
       "    <tr>\n",
       "      <th>4</th>\n",
       "      <td>98.0</td>\n",
       "      <td>F</td>\n",
       "      <td>73.0</td>\n",
       "    </tr>\n",
       "  </tbody>\n",
       "</table>\n",
       "</div>"
      ],
      "text/plain": [
       "   temperature gender  heart_rate\n",
       "0         99.3      F        68.0\n",
       "1         98.4      F        81.0\n",
       "2         97.8      M        73.0\n",
       "3         99.2      F        66.0\n",
       "4         98.0      F        73.0"
      ]
     },
     "execution_count": 194,
     "metadata": {},
     "output_type": "execute_result"
    }
   ],
   "source": [
    "import pandas as pd\n",
    "import numpy as np\n",
    "import matplotlib.pyplot as plt\n",
    "import seaborn as sns\n",
    "import scipy.stats as st\n",
    "\n",
    "df = pd.read_csv('data/human_body_temperature.csv')\n",
    "df.head()"
   ]
  },
  {
   "cell_type": "markdown",
   "metadata": {
    "collapsed": true
   },
   "source": [
    "# 1. Is the distribution of body temperatures normal?\n",
    "<li> Although this is not a requirement for the Central Limit Theorem to hold (read the introduction on Wikipedia's page about the CLT carefully: https://en.wikipedia.org/wiki/Central_limit_theorem), it gives us some peace of mind that the population may also be normally distributed if we assume that this sample is representative of the population.\n",
    "    <li> Think about the way you're going to check for the normality of the distribution. Graphical methods are usually used first, but there are also other ways: https://en.wikipedia.org/wiki/Normality_test"
   ]
  },
  {
   "cell_type": "code",
   "execution_count": 195,
   "metadata": {},
   "outputs": [
    {
     "data": {
      "image/png": "[encoded data removed]",
      "text/plain": [
       "<matplotlib.figure.Figure at 0x18e50fade48>"
      ]
     },
     "metadata": {},
     "output_type": "display_data"
    }
   ],
   "source": [
    "np.random.seed(7209)\n",
    "\n",
    "# Computing the Theoretical CDF\n",
    "temps = df.temperature\n",
    "mean_temp = np.mean(temps)\n",
    "std_temp = np.std(temps)\n",
    "sample_temp = np.random.normal(mean_temp, std_temp, size=10000)\n",
    "x_theor = np.sort(sample_temp)\n",
    "y_theor = np.arange(1, len(x_theor) + 1) / len(x_theor)\n",
    "\n",
    "# Computing the ECDF of the Observed Temperatures\n",
    "x_obs = np.sort(temps)\n",
    "y_obs = np.arange(1, len(x_obs) + 1) / len(x_obs)\n",
    "\n",
    "# Plotting the Theoretical CDF and ECDF of Temperatures\n",
    "sns.set()\n",
    "_ = plt.plot(x_theor, y_theor)\n",
    "_ = plt.plot(x_obs, y_obs, marker = '.', linestyle = 'none')\n",
    "_ = plt.xlabel('temperature (degrees F)')\n",
    "_ = plt.ylabel('CDF')\n",
    "plt.show()"
   ]
  },
  {
   "cell_type": "markdown",
   "metadata": {},
   "source": [
    "The empirical cumulative distribution function for the data of body temperatures seems relatively close to that of the cumulative distribution function of a theoretically normal model of the data. For this reason, it is appropriate for us to approximate the distribution of body temperatures to be normal. "
   ]
  },
  {
   "cell_type": "markdown",
   "metadata": {},
   "source": [
    "# 2. Is the sample size large? Are the observations independent?\n",
    " <li> Remember that this is a condition for the Central Limit Theorem, and hence the statistical tests we are using, to apply."
   ]
  },
  {
   "cell_type": "code",
   "execution_count": 184,
   "metadata": {},
   "outputs": [
    {
     "name": "stdout",
     "output_type": "stream",
     "text": [
      "130\n"
     ]
    }
   ],
   "source": [
    "n_temp = len(temps)\n",
    "print(n_temp)"
   ]
  },
  {
   "cell_type": "markdown",
   "metadata": {},
   "source": [
    "Generally, we want a population size greater than 30 in order for the CLT to apply; this condition is fulfilled as there are 130 observations in the data. \n",
    "\n",
    "We have no reason to believe the observations are not independent from each other, especially since we are assuming that the data is normally distributed. "
   ]
  },
  {
   "cell_type": "markdown",
   "metadata": {},
   "source": [
    "# 3. Is the true population mean really 98.6 degrees F?\n",
    "<li> First, try a bootstrap hypothesis test.\n",
    "    <li> Now, let's try frequentist statistical testing. Would you use a one-sample or two-sample test? Why?\n",
    "    <li> In this situation, is it appropriate to use the $t$ or $z$ statistic? \n",
    "    <li> Now try using the other test. How is the result be different? Why?"
   ]
  },
  {
   "cell_type": "code",
   "execution_count": 193,
   "metadata": {},
   "outputs": [
    {
     "name": "stdout",
     "output_type": "stream",
     "text": [
      "The p-value for the bootstrap hypothesis is 0.0\n",
      "The p-value for the one-sample z-test is 4.35231516587e-08\n",
      "The p-value for the one-sample t-test is 2.18874646241e-07\n"
     ]
    },
    {
     "data": {
      "text/plain": [
       "98.249230769230749"
      ]
     },
     "execution_count": 193,
     "metadata": {},
     "output_type": "execute_result"
    },
    {
     "data": {
      "image/png": "[encoded data removed]",
      "text/plain": [
       "<matplotlib.figure.Figure at 0x18e510f8898>"
      ]
     },
     "metadata": {},
     "output_type": "display_data"
    }
   ],
   "source": [
    "np.random.seed(7209)\n",
    "\n",
    "# H0: The population mean body temperature is 98.6 degrees F\n",
    "# HA: The population mean body temperature is not 98.6 degrees F\n",
    "\n",
    "# One-sample bootstrap hypothesis test\n",
    "translated_temps = temps - mean_temp + 98.6\n",
    "bs_replicates = np.empty(10000)\n",
    "for i in range(10000):\n",
    "    bs_sample = np.random.choice(translated_temps, len(translated_temps))\n",
    "    bs_replicates[i] = np.mean(bs_sample)\n",
    "#p_bs_test = (np.sum(bs_replicates <= mean_temp) + np.sum(-bs_replicates >= mean_temp)) / len(bs_replicates)\n",
    "p_bs_test = np.sum(bs_replicates <= mean_temp) / len(bs_replicates)\n",
    "print('The p-value for the bootstrap hypothesis is', p_bs_test)\n",
    "_ = plt.hist(bs_replicates)\n",
    "_ = plt.axvline(x=mean_temp, color='pink')\n",
    "\n",
    "# z-statistic hypothesis test\n",
    "z_temp = (mean_temp - 98.6) / (std_temp/ np.sqrt(n_temp))\n",
    "p_z_test = 2 * st.norm.cdf(z_temp)\n",
    "print('The p-value for the one-sample z-test is', p_z_test)\n",
    "\n",
    "# t-statistic hypothesis test\n",
    "t_temp = (mean_temp - 98.6) / (std_temp/np.sqrt(n_temp))\n",
    "t_df = n_temp - 1\n",
    "p_t_test = 2 * st.t.cdf(t_temp, df = t_df)\n",
    "print('The p-value for the one-sample t-test is', p_t_test)\n",
    "np.sum(bs_replicates >= -mean_temp)\n",
    "mean_temp"
   ]
  },
  {
   "cell_type": "markdown",
   "metadata": {},
   "source": [
    "Because we are only dealing with a single group of body temperatures, we would carry out one-sample hypothesis testing. Our sample size is greater than 30 and we are assuming the data is normally distributed, so it is appropriate to use an approximated z-statistic using the sample standard deviation, since we do not know the population standard deviation. \n",
    "When we try using a t-statistic, the p-value is greater than that of the z-test because the tails of the t-distribution are larger than that of the normal distribution."
   ]
  },
  {
   "cell_type": "markdown",
   "metadata": {},
   "source": [
    "# 4. Draw a small sample of size 10 from the data and repeat both frequentist tests.\n",
    "<li> Which one is the correct one to use? \n",
    "    <li> What do you notice? What does this tell you about the difference in application of the $t$ and $z$ statistic?"
   ]
  },
  {
   "cell_type": "markdown",
   "metadata": {},
   "source": [
    "The correct test to use would be a hypothesis test using the t-statistic. The z-statistic underestimates the p-value because the data with sample size of 10 is not normally distributed, and is much less than the p-value calculated from the t-distribution. "
   ]
  },
  {
   "cell_type": "code",
   "execution_count": 187,
   "metadata": {},
   "outputs": [
    {
     "name": "stdout",
     "output_type": "stream",
     "text": [
      "The p-value for the one-sample z-test is 3.31012949729e-13\n",
      "The p-value for the one-sample t-test is 4.65781908395e-05\n"
     ]
    }
   ],
   "source": [
    "np.random.seed(7209)\n",
    "\n",
    "temps_random_ten = np.random.choice(temps, 10)\n",
    "mean_temp_ten = np.mean(temps_random_ten)\n",
    "std_temp_ten = np.std(temps_random_ten)\n",
    "\n",
    "# z-statistic hypothesis test\n",
    "z_temp_ten = (mean_temp_ten - 98.6) / (std_temp_ten/10)\n",
    "p_z_test_ten = 2 * st.norm.cdf(z_temp_ten)\n",
    "print('The p-value for the one-sample z-test is', p_z_test_ten)\n",
    "\n",
    "# t-statistic hypothesis test\n",
    "t_temp_ten = (mean_temp_ten - 98.6) / (std_temp_ten/10)\n",
    "t_df_ten = 10 - 1\n",
    "p_t_test = 2 * st.t.cdf(t_temp_ten, df = t_df_ten)\n",
    "print('The p-value for the one-sample t-test is', p_t_test)"
   ]
  },
  {
   "cell_type": "markdown",
   "metadata": {},
   "source": [
    "# 5. At what temperature should we consider someone's temperature to be \"abnormal\"?\n",
    "<li> As in the previous example, try calculating everything using the boostrap approach, as well as the frequentist approach.\n",
    "    <li> Start by computing the margin of error and confidence interval. When calculating the confidence interval, keep in mind that you should use the appropriate formula for one draw, and not N draws."
   ]
  },
  {
   "cell_type": "code",
   "execution_count": 188,
   "metadata": {},
   "outputs": [
    {
     "name": "stdout",
     "output_type": "stream",
     "text": [
      "According to our bootstrap confidence interval, the lower limit for an abnormal body temperature is 98.4707692308 and the upper limit is 98.7253846154\n",
      "According to our normally distributed confidence interval, the lower limit for an abnormal body temperature is 98.1236821115 and the upper limit is 98.374779427\n",
      "According to our t-distributed confidence interval, the lower limit for an abnormal body temperature is 98.1224931882 and the upper limit is 98.3759683502\n"
     ]
    }
   ],
   "source": [
    "np.random.seed(7209)\n",
    "\n",
    "# Assuming a 5% significance level, any temperature that has a p-value of 0.025 or less would be considered abnormal\n",
    "\n",
    "#Abnormal body temperature according to bootstrap approach\n",
    "bs_replicates_cf = np.empty(10000)\n",
    "for i in range(10000):\n",
    "    bs_sample = np.random.choice(temps, len(temps))\n",
    "    bs_replicates_cf[i] = np.mean(bs_sample)\n",
    "bs_cf = np.percentile(bs_replicates, [2.5, 97.5])\n",
    "print('According to our bootstrap confidence interval, the lower limit for an abnormal body temperature is', bs_cf[0], \n",
    "      'and the upper limit is', bs_cf[1])\n",
    "\n",
    "# Abnormal body temperature according to z-score\n",
    "z_abnormal = st.norm.ppf(.975)\n",
    "me_z_score = z_abnormal*(std_temp/np.sqrt(n_temp))\n",
    "z_cf = (mean_temp - me_z_score, mean_temp + me_z_score)\n",
    "print('According to our normally distributed confidence interval, the lower limit for an abnormal body temperature is', z_cf[0], \n",
    "      'and the upper limit is', z_cf[1])\n",
    "\n",
    "# Abnormal body temperature according to t-value\n",
    "t_abnormal = st.t.ppf(.975, df=t_df)\n",
    "me_t_value = t_abnormal*(std_temp/np.sqrt(n_temp))\n",
    "t_cf = (mean_temp - me_t_value, mean_temp + me_t_value)\n",
    "print('According to our t-distributed confidence interval, the lower limit for an abnormal body temperature is', t_cf[0], \n",
    "      'and the upper limit is', t_cf[1])"
   ]
  },
  {
   "cell_type": "markdown",
   "metadata": {},
   "source": [
    "# 6. Is there a significant difference between males and females in normal temperature?\n",
    "<li> What testing approach did you use and why?\n",
    "    <li> Write a story with your conclusion in the context of the original problem."
   ]
  },
  {
   "cell_type": "code",
   "execution_count": 180,
   "metadata": {},
   "outputs": [
    {
     "name": "stdout",
     "output_type": "stream",
     "text": [
      "The p-value for the permutation test is 0.0234\n"
     ]
    },
    {
     "data": {
      "image/png": "[encoded data removed]",
      "text/plain": [
       "<matplotlib.figure.Figure at 0x18e51714278>"
      ]
     },
     "metadata": {},
     "output_type": "display_data"
    }
   ],
   "source": [
    "np.random.seed(7209)\n",
    "\n",
    "# H0: The probability distributions of male and female body temperatures are the same\n",
    "# HA: The probability distributions of male and female body temperatures are the different\n",
    "\n",
    "male_temps = df.temperature[df.gender == 'M']\n",
    "female_temps = df.temperature[df.gender == 'F']\n",
    "mean_diff_gender = np.mean(male_temps) - np.mean(female_temps)\n",
    "\n",
    "# Permutation test for the probability distributions of two samples using mean difference as test statistic\n",
    "perm_reps = np.empty(10000)\n",
    "for i in range(10000):\n",
    "    perm_temps = np.random.permutation(temps)\n",
    "    perm_temps_m = perm_temps[:len(male_temps)]\n",
    "    perm_temps_f = perm_temps[len(female_temps):]\n",
    "    perm_reps[i] = np.mean(perm_temps_m) - np.mean(perm_temps_f)\n",
    "_=plt.hist(perm_reps, bins=20, normed=True)\n",
    "_=plt.axvline(x=mean_diff_gender, color='pink')\n",
    "_=plt.axvline(x=-mean_diff_gender, color='cyan')\n",
    "p_perm = np.sum(abs(perm_reps) >= abs(mean_diff_gender))/len(perm_reps)\n",
    "print('The p-value for the permutation test is', p_perm)"
   ]
  },
  {
   "cell_type": "markdown",
   "metadata": {},
   "source": [
    "I used a permutation test for equivalence of probability distributions because I was interested in seeing if the data between male and female body temperatures came from the same distribution; if the two groups do not have equal distributions, it could explain why the p-vales of previous tests were so low. \n",
    "\n",
    "From the hypothesis test, we got the result that there is a 2.34% chance that we would obtain a difference in mean that is at least as extreme as this, assuming that the distributions of body temperature of males and females were the same. Given a 5% significance level, our test would suggest there is a statistically significant difference between male and female body temperatures; however, because the p-value is large enough to fail to reject the null hypothesis at 1% significance, we cannot say our test has strong statistical significance. \n",
    "\n",
    "The relatively low p-value for our test for the difference in means may explain why our previous hypothesis tests for the population mean of body temperature being 98.6 F had such low p-values; the means of the two genders were not the same meaning the variability within the groups were affecting the overall sample mean. "
   ]
  },
  {
   "cell_type": "code",
   "execution_count": 200,
   "metadata": {},
   "outputs": [
    {
     "name": "stdout",
     "output_type": "stream",
     "text": [
      "The p-value for the two-sample bootstrap hypothesis test for the difference in means is 0.0113\n"
     ]
    }
   ],
   "source": [
    "np.random.seed(7209)\n",
    "\n",
    "# Bootstrap hypothesis test for difference in means\n",
    "male_temps_shifted = male_temps - np.mean(male_temps) + mean_temp\n",
    "female_temps_shifted = female_temps - np.mean(female_temps) + mean_temp\n",
    "bs_reps_male = np.empty(10000)\n",
    "bs_reps_female = np.empty(10000)\n",
    "for i in range(10000):\n",
    "    bs_sample_male = np.random.choice(male_temps_shifted, len(male_temps_shifted))\n",
    "    bs_reps_male[i] = np.mean(bs_sample_male)\n",
    "    bs_sample_female = np.random.choice(female_temps_shifted, len(female_temps_shifted))\n",
    "    bs_reps_female[i] = np.mean(bs_sample_female)\n",
    "bs_reps_diff = bs_reps_male - bs_reps_female\n",
    "p_bs_diff = np.sum(bs_reps_diff <= mean_diff_gender)/len(bs_reps_diff)\n",
    "print('The p-value for the two-sample bootstrap hypothesis test for the difference in means is', p_bs_diff)"
   ]
  },
  {
   "cell_type": "code",
   "execution_count": null,
   "metadata": {},
   "outputs": [],
   "source": []
  }
 ],
 "metadata": {
  "kernelspec": {
   "display_name": "Python 3",
   "language": "python",
   "name": "python3"
  },
  "language_info": {
   "codemirror_mode": {
    "name": "ipython",
    "version": 3
   },
   "file_extension": ".py",
   "mimetype": "text/x-python",
   "name": "python",
   "nbconvert_exporter": "python",
   "pygments_lexer": "ipython3",
   "version": "3.6.0"
  }
 },
 "nbformat": 4,
 "nbformat_minor": 1
}
